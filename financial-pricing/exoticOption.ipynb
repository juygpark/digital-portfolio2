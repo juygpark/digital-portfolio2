{
 "cells": [
  {
   "cell_type": "code",
   "execution_count": 1,
   "metadata": {},
   "outputs": [],
   "source": [
    "# 필요모듈 import\n",
    "import numpy as np\n",
    "\n",
    "# 변수 저장\n",
    "S0=100\n",
    "sigma=0.35\n",
    "rf=0.05\n",
    "M=10**3\n",
    "N=10**2\n",
    "\n",
    "TM=6/12\n",
    "dt=TM/N"
   ]
  },
  {
   "cell_type": "markdown",
   "metadata": {},
   "source": [
    "# (a) down-and-out call"
   ]
  },
  {
   "cell_type": "code",
   "execution_count": 2,
   "metadata": {},
   "outputs": [
    {
     "name": "stdout",
     "output_type": "stream",
     "text": [
      "The Monte-Carlo estimate of the Down-and-out call price :  10.349966470041512\n",
      "The 95% confidence interval is [ 9.26186366342432 , 11.438069276658704 ]\n",
      "The length of the 95% confidence interval is  2.1762056132343837\n"
     ]
    }
   ],
   "source": [
    "# 옵션 정보 변수 저장\n",
    "E=100 #strike price\n",
    "B=80  #barrier\n",
    "\n",
    "# stock path를 저장할 행렬과 초기값 저장 \n",
    "Spath=np.zeros(shape=N+1)\n",
    "Spath[0]=S0\n",
    "\n",
    "# 계산된 call option 값을 저장할 빈 리스트 저장 \n",
    "Cm=[]\n",
    "\n",
    "for i in range(M):\n",
    "    # Stock path 생성하기\n",
    "    for j in range(1,N+1):\n",
    "        z=np.random.standard_normal()\n",
    "        # monte-carlo pricing에서는 risk neutrality를 위해 mu 대신 rf사용 \n",
    "        Spath[j]=Spath[j-1]* np.exp((rf - 0.5 * sigma**2) * dt + sigma * np.sqrt(dt) * z)\n",
    "    #한번이라도 B를 찍으면 out\n",
    "    Smin=min(Spath)\n",
    "    if Smin>B:\n",
    "        C=np.exp(-rf*TM)*max(Spath[N]-E,0)\n",
    "    else:\n",
    "        C=0\n",
    "    Cm.append(C)\n",
    "\n",
    "#95% 신뢰구간 생성 \n",
    "Cm=np.array(Cm)\n",
    "mean=Cm.mean()\n",
    "stdev=Cm.std()\n",
    "lb=mean-1.96*stdev/np.sqrt(len(Cm))\n",
    "ub=mean+1.96*stdev/np.sqrt(len(Cm))\n",
    "\n",
    "print(\"The Monte-Carlo estimate of the Down-and-out call price : \",mean)\n",
    "print(\"The 95% confidence interval is [\",lb,\",\",ub,\"]\")\n",
    "print(\"The length of the 95% confidence interval is \",ub-lb)"
   ]
  },
  {
   "cell_type": "markdown",
   "metadata": {},
   "source": [
    "# (b) up-and-in call"
   ]
  },
  {
   "cell_type": "code",
   "execution_count": 3,
   "metadata": {},
   "outputs": [
    {
     "name": "stdout",
     "output_type": "stream",
     "text": [
      "The Monte-Carlo estimate of the up-and-in call price :  6.490293955280311\n",
      "The 95% confidence interval is [ 5.62070599913349 , 7.3598819114271326 ]\n",
      "The length of the 95% confidence interval is  1.7391759122936428\n"
     ]
    }
   ],
   "source": [
    "E=110\n",
    "B=115\n",
    "\n",
    "Spath=np.zeros(shape=N+1)\n",
    "Spath[0]=S0\n",
    "Cm=[]\n",
    "\n",
    "for i in range(M):\n",
    "    for j in range(1,N+1):\n",
    "        z=np.random.standard_normal()\n",
    "        Spath[j]=Spath[j-1]* np.exp((rf - 0.5 * sigma**2) * dt + sigma * np.sqrt(dt) * z)\n",
    "    Smax=max(Spath)\n",
    "    # 한번이라도 B를 찍어야만 in\n",
    "    if Smax>=B:\n",
    "        C=np.exp(-rf*TM)*max(Spath[N]-E,0)\n",
    "    else:\n",
    "        C=0\n",
    "    Cm.append(C)\n",
    "        \n",
    "Cm=np.array(Cm)\n",
    "mean=Cm.mean()\n",
    "stdev=Cm.std()\n",
    "lb=mean-1.96*stdev/np.sqrt(len(Cm))\n",
    "ub=mean+1.96*stdev/np.sqrt(len(Cm))\n",
    "\n",
    "print(\"The Monte-Carlo estimate of the up-and-in call price : \",mean)\n",
    "print(\"The 95% confidence interval is [\",lb,\",\",ub,\"]\")\n",
    "print(\"The length of the 95% confidence interval is \",ub-lb)"
   ]
  },
  {
   "cell_type": "markdown",
   "metadata": {},
   "source": [
    "# (c) fixed strike lookback put"
   ]
  },
  {
   "cell_type": "code",
   "execution_count": 4,
   "metadata": {},
   "outputs": [
    {
     "name": "stdout",
     "output_type": "stream",
     "text": [
      "The Monte-Carlo estimate of the fixed strike lookback put price :  15.895976285742163\n",
      "The 95% confidence interval is [ 15.18180567931349 , 16.61014689217084 ]\n",
      "The length of the 95% confidence interval is  1.4283412128573492\n"
     ]
    }
   ],
   "source": [
    "E=100\n",
    "\n",
    "Spath=np.zeros(shape=N+1)\n",
    "Spath[0]=S0\n",
    "Pm=[]\n",
    "\n",
    "for i in range(M):\n",
    "    for j in range(1,N+1):\n",
    "        z=np.random.standard_normal()\n",
    "        Spath[j]=Spath[j-1]* np.exp((rf - 0.5 * sigma**2) * dt + sigma * np.sqrt(dt) * z)\n",
    "    Smin=min(Spath)\n",
    "    # put option의 payoff 산출에 S[N] 대신 Smin사용  \n",
    "    P=np.exp(-rf*TM)*max(E-Smin,0)\n",
    "    Pm.append(P)\n",
    "        \n",
    "Pm=np.array(Pm)\n",
    "mean=Pm.mean()\n",
    "stdev=Pm.std()\n",
    "lb=mean-1.96*stdev/np.sqrt(len(Pm))\n",
    "ub=mean+1.96*stdev/np.sqrt(len(Pm))\n",
    "\n",
    "print(\"The Monte-Carlo estimate of the fixed strike lookback put price : \",mean)\n",
    "print(\"The 95% confidence interval is [\",lb,\",\",ub,\"]\")\n",
    "print(\"The length of the 95% confidence interval is \",ub-lb)"
   ]
  },
  {
   "cell_type": "markdown",
   "metadata": {},
   "source": [
    "# (d) average price Asian put"
   ]
  },
  {
   "cell_type": "code",
   "execution_count": 5,
   "metadata": {},
   "outputs": [
    {
     "name": "stdout",
     "output_type": "stream",
     "text": [
      "The Monte-Carlo estimate of the average price Asian put :  5.201404192791606\n",
      "The 95% confidence interval is [ 4.742893832687676 , 5.659914552895536 ]\n",
      "The length of the 95% confidence interval is  0.9170207202078604\n"
     ]
    }
   ],
   "source": [
    "E=100\n",
    "\n",
    "Spath=np.zeros(shape=N+1)\n",
    "Spath[0]=S0\n",
    "\n",
    "Smul=np.zeros(shape=N+1)\n",
    "Smul[0]=1\n",
    "\n",
    "Pm=[]\n",
    "\n",
    "for i in range(M):\n",
    "    for j in range(1,N+1):\n",
    "        z=np.random.standard_normal()\n",
    "        Spath[j]=Spath[j-1]* np.exp((rf - 0.5 * sigma**2) * dt + sigma * np.sqrt(dt) * z)\n",
    "        Smul[j]=Smul[j-1]*Spath[j]\n",
    "    Smean=Smul[N]**(1/N)\n",
    "    # 주가의 평균적 움직임에 따라 payoff 결정 \n",
    "    P=np.exp(-rf*TM)*max(E-Smean,0)\n",
    "    Pm.append(P)\n",
    "        \n",
    "Pm=np.array(Pm)\n",
    "mean=Pm.mean()\n",
    "stdev=Pm.std()\n",
    "lb=mean-1.96*stdev/np.sqrt(len(Pm))\n",
    "ub=mean+1.96*stdev/np.sqrt(len(Pm))\n",
    "\n",
    "print(\"The Monte-Carlo estimate of the average price Asian put : \",mean)\n",
    "print(\"The 95% confidence interval is [\",lb,\",\",ub,\"]\")\n",
    "print(\"The length of the 95% confidence interval is \",ub-lb)"
   ]
  },
  {
   "cell_type": "code",
   "execution_count": null,
   "metadata": {},
   "outputs": [],
   "source": []
  }
 ],
 "metadata": {
  "kernelspec": {
   "display_name": "Python 3",
   "language": "python",
   "name": "python3"
  },
  "language_info": {
   "codemirror_mode": {
    "name": "ipython",
    "version": 3
   },
   "file_extension": ".py",
   "mimetype": "text/x-python",
   "name": "python",
   "nbconvert_exporter": "python",
   "pygments_lexer": "ipython3",
   "version": "3.6.5"
  }
 },
 "nbformat": 4,
 "nbformat_minor": 2
}
