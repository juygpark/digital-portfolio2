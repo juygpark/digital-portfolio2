{
 "cells": [
  {
   "cell_type": "code",
   "execution_count": 1,
   "metadata": {},
   "outputs": [],
   "source": [
    "import numpy as np\n",
    "import scipy.stats as si\n",
    "import sympy as sy\n",
    "from sympy.stats import Normal,cdf\n",
    "import matplotlib.pyplot as plt\n",
    "import math\n",
    "\n",
    "#변수 저장 \n",
    "rf=0.0149\n",
    "T=0.096 #Time to maturity\n",
    "N=42\n",
    "St=271.30\n",
    "\n",
    "# 계산한 implied volatility 값을 저장할 빈 행렬을 Call, Put 각각 만들어준다.\n",
    "sigmaC=np.zeros(shape=N+1)\n",
    "sigmaP=np.zeros(shape=N+1)\n",
    "\n",
    "# 옵션 정보 입력하기\n",
    "E=np.zeros(shape=N+1)\n",
    "E[0]=212.5\n",
    "for i in range(1,N+1):\n",
    "    E[i]=E[i-1]+2.5\n",
    "Ct=[60.10, 54.10, 51.60, 48.35, 46.65, 44.15, 41.65, 39.20, 36.65, 34.15, 30.40, 32.50, 26.70, 24.25, 21.85, 20.45, 19.70, 16.30, 15.95, 13.10, 11, 9.19, 7.41, 5.81, 4.41, 3.24, 2.31, 1.56, 1.04, 0.65, 0.39, 0.23, 0.13, 0.08, 0.04, 0.02, 0.01, 0.01, 0.01,0.01, 0.01, 0.01, 0.01 ]\n",
    "Pt=[0.02, 0.02, 0.02, 0.02, 0.03, 0.03, 0.04, 0.05, 0.06, 0.08, 0.09, 0.12, 0.15, 0.19, 0.26, 0.34, 0.48, 0.66, 0.89,1.20, 1.62, 2.18, 2.89, 3.79, 4.90, 6.22, 8.19, 9.80, 11.55, 13.75, 20.30, 18, 25.90, 27.45, 29.80, 32.30, 33.25, 35.30, 38.25, 40.75, 43.25, 45.75, 44.80  ]\n"
   ]
  },
  {
   "cell_type": "code",
   "execution_count": 3,
   "metadata": {},
   "outputs": [],
   "source": [
    "# Black-Scholes 방정식을 이용한 pricing 함수 정의 \n",
    "def BSpricing_Call(St,E,rf,sigma,T):\n",
    "    d1=(np.log(St/E)+(rf+0.5*sigma**2)*T)/(sigma*np.sqrt(T))\n",
    "    d2=d1-sigma*np.sqrt(T)\n",
    "    \n",
    "    Cbs=St*si.norm.cdf(d1,0,1)-E*np.exp(-rf*T)*si.norm.cdf(d2,0,1)\n",
    "    return Cbs\n",
    "\n",
    "def BSpricing_Put(St,E,rf,sigma,T):\n",
    "    d1=(np.log(St/E)+(rf+0.5*sigma**2)*T)/(sigma*np.sqrt(T))\n",
    "    d2=d1-sigma*np.sqrt(T)\n",
    "    \n",
    "    Pbs=E*np.exp(-rf*T)*si.norm.cdf(-d2,0,1)-St*si.norm.cdf(-d1,0,1)\n",
    "    return Pbs\n",
    "\n",
    "# 옵션의 가격을 sigma로 편미분한 vega값(Call, Put이 같다.) \n",
    "def vega(St,E,rf,sigma,T):\n",
    "    d1=(np.log(St/E)+(rf+0.5*sigma**2)*T)/(sigma*np.sqrt(T)) \n",
    "    \n",
    "    vega=St*np.sqrt(T)*si.norm.pdf(d1,0,1)\n",
    "    return vega\n",
    "\n",
    "\n",
    "\n",
    "# implied volatility 를 계산할 numerical method인 Newton 함수 정의 \n",
    "def newton(f,Df,x0,e,Max):\n",
    "    xn=x0\n",
    "    for n in range(0,Max):\n",
    "        fxn=f(xn)\n",
    "        if abs(fxn)<e:\n",
    "            print(\"implied volatility of call option at strike price \",E[i],\": \",xn)\n",
    "            return xn\n",
    "        Dfxn=Df(xn)\n",
    "        if Dfxn==0:\n",
    "            print(\"failed to find implied volatility of call option at strike price\",E[i],\".\")\n",
    "            return None\n",
    "        xn=xn-fxn/Dfxn\n",
    "    return None"
   ]
  },
  {
   "cell_type": "markdown",
   "metadata": {},
   "source": [
    "# a. (1) Implied volatility of Call option"
   ]
  },
  {
   "cell_type": "code",
   "execution_count": 4,
   "metadata": {},
   "outputs": [
    {
     "name": "stdout",
     "output_type": "stream",
     "text": [
      "implied volatility of call option at strike price  212.5 :  0.5121847282379548\n",
      "failed to find implied volatility of call option at strike price 215.0 .\n",
      "failed to find implied volatility of call option at strike price 217.5 .\n",
      "failed to find implied volatility of call option at strike price 220.0 .\n",
      "failed to find implied volatility of call option at strike price 222.5 .\n",
      "failed to find implied volatility of call option at strike price 225.0 .\n",
      "failed to find implied volatility of call option at strike price 227.5 .\n",
      "failed to find implied volatility of call option at strike price 230.0 .\n",
      "failed to find implied volatility of call option at strike price 232.5 .\n",
      "failed to find implied volatility of call option at strike price 235.0 .\n",
      "failed to find implied volatility of call option at strike price 237.5 .\n",
      "implied volatility of call option at strike price  240.0 :  0.2883581832413557\n",
      "failed to find implied volatility of call option at strike price 242.5 .\n",
      "failed to find implied volatility of call option at strike price 245.0 .\n",
      "failed to find implied volatility of call option at strike price 247.5 .\n",
      "failed to find implied volatility of call option at strike price 250.0 .\n",
      "implied volatility of call option at strike price  252.5 :  0.1718891623145671\n",
      "failed to find implied volatility of call option at strike price 255.0 .\n",
      "implied volatility of call option at strike price  257.5 :  0.20143504549946348\n",
      "implied volatility of call option at strike price  260.0 :  0.1633863393005295\n",
      "implied volatility of call option at strike price  262.5 :  0.15677862030210335\n",
      "implied volatility of call option at strike price  265.0 :  0.15641716676637377\n",
      "implied volatility of call option at strike price  267.5 :  0.15163898823588587\n",
      "implied volatility of call option at strike price  270.0 :  0.1472180522254649\n",
      "implied volatility of call option at strike price  272.5 :  0.1430634475263163\n",
      "implied volatility of call option at strike price  275.0 :  0.13960975192528963\n",
      "implied volatility of call option at strike price  277.5 :  0.137107565187258\n",
      "implied volatility of call option at strike price  280.0 :  0.13386904258237933\n",
      "implied volatility of call option at strike price  282.5 :  0.13256206906619036\n",
      "implied volatility of call option at strike price  285.0 :  0.13035186137688468\n",
      "implied volatility of call option at strike price  287.5 :  0.12857207161345616\n",
      "implied volatility of call option at strike price  290.0 :  0.1277383854576747\n",
      "implied volatility of call option at strike price  292.5 :  0.12693893561721403\n",
      "implied volatility of call option at strike price  295.0 :  0.12860335021551464\n",
      "implied volatility of call option at strike price  297.5 :  0.1269474775477662\n",
      "implied volatility of call option at strike price  300.0 :  0.12618282907590656\n",
      "implied volatility of call option at strike price  302.5 :  0.12601084985266184\n",
      "implied volatility of call option at strike price  305.0 :  0.13463104347412913\n",
      "implied volatility of call option at strike price  307.5 :  0.14312584273502385\n",
      "implied volatility of call option at strike price  310.0 :  0.15150169151210285\n",
      "implied volatility of call option at strike price  312.5 :  0.15976425205836525\n",
      "implied volatility of call option at strike price  315.0 :  0.167918552045789\n",
      "implied volatility of call option at strike price  317.5 :  0.17596909630668964\n"
     ]
    },
    {
     "name": "stderr",
     "output_type": "stream",
     "text": [
      "C:\\Users\\hoyah\\Anaconda3\\lib\\site-packages\\ipykernel_launcher.py:3: RuntimeWarning: overflow encountered in double_scalars\n",
      "  This is separate from the ipykernel package so we can avoid doing imports until\n",
      "C:\\Users\\hoyah\\Anaconda3\\lib\\site-packages\\ipykernel_launcher.py:18: RuntimeWarning: overflow encountered in double_scalars\n"
     ]
    }
   ],
   "source": [
    "# 콜옵션에 대한 newton method 실행하여 implied volatility 계산 후 값 출력 \n",
    "for i in range(N+1):\n",
    "    f=lambda x: BSpricing_Call(St,E[i],rf,x,T)-Ct[i]\n",
    "    Df=lambda x:vega(St,E[i],rf,x,T)\n",
    "    \n",
    "    sigmaC[i]=newton(f,Df,1,1e-10,1000)"
   ]
  },
  {
   "cell_type": "code",
   "execution_count": 5,
   "metadata": {},
   "outputs": [
    {
     "data": {
      "image/png": "[encoded data removed]",
      "text/plain": [
       "<Figure size 720x576 with 1 Axes>"
      ]
     },
     "metadata": {},
     "output_type": "display_data"
    }
   ],
   "source": [
    "# 그래프 그리기\n",
    "plt.figure(figsize=(10,8))\n",
    "\n",
    "plt.plot(E,sigmaC,color=\"b\")\n",
    "plt.scatter(E,sigmaC,color=\"b\")\n",
    "plt.xlabel('Strike price of option')\n",
    "plt.ylabel('Implied volatility')\n",
    "plt.grid(True)\n",
    "plt.axis('tight')\n",
    "plt.title('(Figure1) Implied volatility of Call')\n",
    "plt.show()"
   ]
  },
  {
   "cell_type": "markdown",
   "metadata": {},
   "source": [
    "# a. (2) Implied volatility of Put option"
   ]
  },
  {
   "cell_type": "code",
   "execution_count": 6,
   "metadata": {},
   "outputs": [
    {
     "name": "stdout",
     "output_type": "stream",
     "text": [
      "implied volatility of call option at strike price  212.5 :  0.28945573352740267\n",
      "implied volatility of call option at strike price  215.0 :  0.2768588223918594\n",
      "implied volatility of call option at strike price  217.5 :  0.2643691665758208\n",
      "implied volatility of call option at strike price  220.0 :  0.2519817741822856\n",
      "implied volatility of call option at strike price  222.5 :  0.25019288444990334\n",
      "implied volatility of call option at strike price  225.0 :  0.23754605409317928\n",
      "implied volatility of call option at strike price  227.5 :  0.23248703452140035\n",
      "implied volatility of call option at strike price  230.0 :  0.22564496305759627\n",
      "implied volatility of call option at strike price  232.5 :  0.21756390151051988\n",
      "implied volatility of call option at strike price  235.0 :  0.21236116192169863\n",
      "implied volatility of call option at strike price  237.5 :  0.2021229126188473\n",
      "implied volatility of call option at strike price  240.0 :  0.19668260249717778\n",
      "implied volatility of call option at strike price  242.5 :  0.18919206785992082\n",
      "implied volatility of call option at strike price  245.0 :  0.18192631839921597\n",
      "implied volatility of call option at strike price  247.5 :  0.17707177502478216\n",
      "implied volatility of call option at strike price  250.0 :  0.1706187589574375\n",
      "implied volatility of call option at strike price  252.5 :  0.16705233203146283\n",
      "implied volatility of call option at strike price  255.0 :  0.16272214936082144\n",
      "implied volatility of call option at strike price  257.5 :  0.15773358434181434\n",
      "implied volatility of call option at strike price  260.0 :  0.15296883479585036\n",
      "implied volatility of call option at strike price  262.5 :  0.14868304955582953\n",
      "implied volatility of call option at strike price  265.0 :  0.1448786198516987\n",
      "implied volatility of call option at strike price  267.5 :  0.14087428948776728\n",
      "implied volatility of call option at strike price  270.0 :  0.13712197630001857\n",
      "implied volatility of call option at strike price  272.5 :  0.1334952282185629\n",
      "implied volatility of call option at strike price  275.0 :  0.12949919610285213\n",
      "implied volatility of call option at strike price  277.5 :  0.13966290833430145\n",
      "implied volatility of call option at strike price  280.0 :  0.1315719400948979\n",
      "implied volatility of call option at strike price  282.5 :  0.11871234000428552\n",
      "implied volatility of call option at strike price  285.0 :  0.11820720640789109\n",
      "implied volatility of call option at strike price  287.5 :  0.30690433019453744\n",
      "failed to find implied volatility of call option at strike price 290.0 .\n",
      "implied volatility of call option at strike price  292.5 :  0.3720199261717944\n",
      "implied volatility of call option at strike price  295.0 :  0.3582306229385723\n",
      "implied volatility of call option at strike price  297.5 :  0.37230516795312396\n",
      "implied volatility of call option at strike price  300.0 :  0.3915302421135757\n",
      "implied volatility of call option at strike price  302.5 :  0.34308162806657155\n",
      "implied volatility of call option at strike price  305.0 :  0.33747669736442787\n",
      "implied volatility of call option at strike price  307.5 :  0.3765067777086424\n",
      "implied volatility of call option at strike price  310.0 :  0.39269583501109834\n",
      "implied volatility of call option at strike price  312.5 :  0.4085672036988465\n",
      "implied volatility of call option at strike price  315.0 :  0.4241406252405382\n",
      "failed to find implied volatility of call option at strike price 317.5 .\n"
     ]
    }
   ],
   "source": [
    "# 풋옵션에 대한 newton method 실행하여 implied volatility 계산 후 값 출력 \n",
    "for i in range(N+1):\n",
    "    f=lambda x: BSpricing_Put(St,E[i],rf,x,T)-Pt[i]\n",
    "    Df=lambda x:vega(St,E[i],rf,x,T)\n",
    "    \n",
    "    sigmaP[i]=newton(f,Df,1,1e-10,1000)"
   ]
  },
  {
   "cell_type": "code",
   "execution_count": 7,
   "metadata": {},
   "outputs": [
    {
     "data": {
      "image/png": "[encoded data removed]",
      "text/plain": [
       "<Figure size 720x576 with 1 Axes>"
      ]
     },
     "metadata": {},
     "output_type": "display_data"
    }
   ],
   "source": [
    "plt.figure(figsize=(10,8))\n",
    "\n",
    "plt.plot(E,sigmaP,color=\"b\")\n",
    "plt.scatter(E,sigmaP,color=\"b\")\n",
    "plt.xlabel('Strike price of option')\n",
    "plt.ylabel('Implied volatility')\n",
    "plt.grid(True)\n",
    "plt.axis('tight')\n",
    "plt.title('(Figure 2) Implied volatility of Put')\n",
    "plt.show()"
   ]
  },
  {
   "cell_type": "markdown",
   "metadata": {},
   "source": [
    "# (b)"
   ]
  },
  {
   "cell_type": "markdown",
   "metadata": {},
   "source": [
    "  Implied volatility(이하 iv)는 현재 시장가격으로부터 구한 옵션의 변동성으로 가격에 대한 시장의 예측을 반영하고 있다. 먼저, 변동성은 옵션의 가격과 양의 상관관계를 가지므로 기초자산의 가격(St)이 일정할 때 iv가 낮은 옵션은 iv가 높은 옵션보다 가격이 낮아야 한다. 따라서, iv가 낮을수록 옵션가가 저평가 되어있고, 높을수록 고평가 되어있다고 할 수 있다. \n",
    "  \n",
    "  \n",
    "위 두 그림을 비교해보면 콜옵션의 iv는 행사가격이 낮을 때 높고, 풋옵션의 iv는 행사가격이 높을 때 비교적 높은 양상을 보인다. 따라서, 주가가 하락할수록 이득을 취하는 포지션의 옵션가격이 높게 형성되어 있으므로, 그래프는 하락장이 될 것이라는 예측을 반영하고 있다.\n",
    "\n",
    "\n",
    "따라서, 행사가격 k1<k2일 때, k1인 풋옵션을 1개 매도하고 k2인 풋옵션을 1개 매수하는(or k1 콜 1개 매도+k2 콜 1개 매수) Bear Spread position을 구축하면 하락장으로부터 이득을 취할 수 있다. (ex) -P(k=222.5)+Put(k=245))"
   ]
  },
  {
   "cell_type": "code",
   "execution_count": null,
   "metadata": {},
   "outputs": [],
   "source": []
  }
 ],
 "metadata": {
  "kernelspec": {
   "display_name": "Python 3",
   "language": "python",
   "name": "python3"
  },
  "language_info": {
   "codemirror_mode": {
    "name": "ipython",
    "version": 3
   },
   "file_extension": ".py",
   "mimetype": "text/x-python",
   "name": "python",
   "nbconvert_exporter": "python",
   "pygments_lexer": "ipython3",
   "version": "3.6.5"
  }
 },
 "nbformat": 4,
 "nbformat_minor": 2
}
